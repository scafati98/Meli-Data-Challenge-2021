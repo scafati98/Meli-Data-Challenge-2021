{
  "nbformat": 4,
  "nbformat_minor": 0,
  "metadata": {
    "colab": {
      "name": "01. ETL.ipynb",
      "provenance": [],
      "collapsed_sections": []
    },
    "kernelspec": {
      "name": "python3",
      "display_name": "Python 3"
    },
    "language_info": {
      "name": "python"
    }
  },
  "cells": [
    {
      "cell_type": "markdown",
      "metadata": {
        "id": "tT7GrK5f_tuV"
      },
      "source": [
        "# Extract, Transform and Load"
      ]
    },
    {
      "cell_type": "code",
      "metadata": {
        "id": "0brwY9RaisWo"
      },
      "source": [
        "import pandas as pd\n",
        "import numpy as np\n",
        "import json\n",
        "from tqdm import tqdm\n",
        "import csv\n",
        "import matplotlib.pyplot as plt\n",
        "import multiprocessing\n",
        "from itertools import chain, islice\n",
        "from datetime import timedelta\n",
        "import jsonlines\n",
        "import seaborn as sns\n",
        "from pathlib import Path"
      ],
      "execution_count": 1,
      "outputs": []
    },
    {
      "cell_type": "markdown",
      "metadata": {
        "id": "wu5NTl6Fy4IF"
      },
      "source": [
        "### Mount Google Drive and Load Datasets"
      ]
    },
    {
      "cell_type": "code",
      "metadata": {
        "colab": {
          "base_uri": "https://localhost:8080/"
        },
        "id": "dDUNn-3byN6r",
        "outputId": "78de09dc-441e-4cde-a912-585306e9e5dd"
      },
      "source": [
        "from google.colab import drive\n",
        "drive.mount('/content/gdrive')"
      ],
      "execution_count": 2,
      "outputs": [
        {
          "output_type": "stream",
          "text": [
            "Drive already mounted at /content/gdrive; to attempt to forcibly remount, call drive.mount(\"/content/gdrive\", force_remount=True).\n"
          ],
          "name": "stdout"
        }
      ]
    },
    {
      "cell_type": "code",
      "metadata": {
        "id": "r1HIIpJ6ADj2"
      },
      "source": [
        "# Set the directory where the data is loaded.\n",
        "local_dir = '/content/gdrive/MyDrive/Meli Data Challenge/'"
      ],
      "execution_count": 3,
      "outputs": []
    },
    {
      "cell_type": "code",
      "metadata": {
        "id": "lqrHlRlhRv0N"
      },
      "source": [
        "df = pd.read_parquet(f'{local_dir}/train_data.parquet')"
      ],
      "execution_count": 4,
      "outputs": []
    },
    {
      "cell_type": "code",
      "metadata": {
        "colab": {
          "base_uri": "https://localhost:8080/",
          "height": 206
        },
        "id": "TXfe2RF5Vpb1",
        "outputId": "b5fdd8ac-7080-4b38-bb68-d7aac302c0a6"
      },
      "source": [
        "df.head()"
      ],
      "execution_count": 5,
      "outputs": [
        {
          "output_type": "execute_result",
          "data": {
            "text/html": [
              "<div>\n",
              "<style scoped>\n",
              "    .dataframe tbody tr th:only-of-type {\n",
              "        vertical-align: middle;\n",
              "    }\n",
              "\n",
              "    .dataframe tbody tr th {\n",
              "        vertical-align: top;\n",
              "    }\n",
              "\n",
              "    .dataframe thead th {\n",
              "        text-align: right;\n",
              "    }\n",
              "</style>\n",
              "<table border=\"1\" class=\"dataframe\">\n",
              "  <thead>\n",
              "    <tr style=\"text-align: right;\">\n",
              "      <th></th>\n",
              "      <th>sku</th>\n",
              "      <th>date</th>\n",
              "      <th>sold_quantity</th>\n",
              "      <th>current_price</th>\n",
              "      <th>currency</th>\n",
              "      <th>listing_type</th>\n",
              "      <th>shipping_logistic_type</th>\n",
              "      <th>shipping_payment</th>\n",
              "      <th>minutes_active</th>\n",
              "    </tr>\n",
              "  </thead>\n",
              "  <tbody>\n",
              "    <tr>\n",
              "      <th>0</th>\n",
              "      <td>464801</td>\n",
              "      <td>2021-02-01</td>\n",
              "      <td>0</td>\n",
              "      <td>156.78</td>\n",
              "      <td>REA</td>\n",
              "      <td>classic</td>\n",
              "      <td>fulfillment</td>\n",
              "      <td>free_shipping</td>\n",
              "      <td>1440.0</td>\n",
              "    </tr>\n",
              "    <tr>\n",
              "      <th>1</th>\n",
              "      <td>464801</td>\n",
              "      <td>2021-02-02</td>\n",
              "      <td>0</td>\n",
              "      <td>156.78</td>\n",
              "      <td>REA</td>\n",
              "      <td>classic</td>\n",
              "      <td>fulfillment</td>\n",
              "      <td>free_shipping</td>\n",
              "      <td>1440.0</td>\n",
              "    </tr>\n",
              "    <tr>\n",
              "      <th>2</th>\n",
              "      <td>464801</td>\n",
              "      <td>2021-02-03</td>\n",
              "      <td>0</td>\n",
              "      <td>156.78</td>\n",
              "      <td>REA</td>\n",
              "      <td>classic</td>\n",
              "      <td>fulfillment</td>\n",
              "      <td>free_shipping</td>\n",
              "      <td>1440.0</td>\n",
              "    </tr>\n",
              "    <tr>\n",
              "      <th>3</th>\n",
              "      <td>464801</td>\n",
              "      <td>2021-02-04</td>\n",
              "      <td>0</td>\n",
              "      <td>156.78</td>\n",
              "      <td>REA</td>\n",
              "      <td>classic</td>\n",
              "      <td>fulfillment</td>\n",
              "      <td>free_shipping</td>\n",
              "      <td>1440.0</td>\n",
              "    </tr>\n",
              "    <tr>\n",
              "      <th>4</th>\n",
              "      <td>464801</td>\n",
              "      <td>2021-02-05</td>\n",
              "      <td>1</td>\n",
              "      <td>156.78</td>\n",
              "      <td>REA</td>\n",
              "      <td>classic</td>\n",
              "      <td>fulfillment</td>\n",
              "      <td>free_shipping</td>\n",
              "      <td>1440.0</td>\n",
              "    </tr>\n",
              "  </tbody>\n",
              "</table>\n",
              "</div>"
            ],
            "text/plain": [
              "      sku        date  ...  shipping_payment  minutes_active\n",
              "0  464801  2021-02-01  ...     free_shipping          1440.0\n",
              "1  464801  2021-02-02  ...     free_shipping          1440.0\n",
              "2  464801  2021-02-03  ...     free_shipping          1440.0\n",
              "3  464801  2021-02-04  ...     free_shipping          1440.0\n",
              "4  464801  2021-02-05  ...     free_shipping          1440.0\n",
              "\n",
              "[5 rows x 9 columns]"
            ]
          },
          "metadata": {
            "tags": []
          },
          "execution_count": 5
        }
      ]
    },
    {
      "cell_type": "markdown",
      "metadata": {
        "id": "kh7XUfq0lyR0"
      },
      "source": [
        "## Load extra item data"
      ]
    },
    {
      "cell_type": "code",
      "metadata": {
        "id": "Dqlr30Wol0Qr"
      },
      "source": [
        "def load_jsonlines(filename):\n",
        "\n",
        "  rv = []\n",
        "  for obj in tqdm(jsonlines.open(filename)):\n",
        "    rv.append(obj)\n",
        "  return rv"
      ],
      "execution_count": 7,
      "outputs": []
    },
    {
      "cell_type": "code",
      "metadata": {
        "colab": {
          "base_uri": "https://localhost:8080/"
        },
        "id": "qhzXZxaYmfqK",
        "outputId": "a1c05468-749b-449d-9942-21c1f80b9107"
      },
      "source": [
        "item_metadata = load_jsonlines(f'{local_dir}items_static_metadata_full.jl')"
      ],
      "execution_count": 8,
      "outputs": [
        {
          "output_type": "stream",
          "text": [
            "660916it [00:05, 123176.30it/s]\n"
          ],
          "name": "stderr"
        }
      ]
    },
    {
      "cell_type": "markdown",
      "metadata": {
        "id": "CWMXQOdpoBYy"
      },
      "source": [
        "### Convert to a df and use sku as the index"
      ]
    },
    {
      "cell_type": "code",
      "metadata": {
        "id": "H5g5gmABn9Sd"
      },
      "source": [
        "df_metadata = pd.DataFrame(item_metadata)\n",
        "df_metadata.index = df_metadata.sku\n",
        "df_metadata.drop(columns=['sku'], inplace=True)"
      ],
      "execution_count": 9,
      "outputs": []
    },
    {
      "cell_type": "code",
      "metadata": {
        "colab": {
          "base_uri": "https://localhost:8080/",
          "height": 238
        },
        "id": "gVwB6RfdoD4B",
        "outputId": "83fd4227-cd2c-4d42-a71a-34fb28deffcc"
      },
      "source": [
        "df_metadata.head()"
      ],
      "execution_count": 10,
      "outputs": [
        {
          "output_type": "execute_result",
          "data": {
            "text/html": [
              "<div>\n",
              "<style scoped>\n",
              "    .dataframe tbody tr th:only-of-type {\n",
              "        vertical-align: middle;\n",
              "    }\n",
              "\n",
              "    .dataframe tbody tr th {\n",
              "        vertical-align: top;\n",
              "    }\n",
              "\n",
              "    .dataframe thead th {\n",
              "        text-align: right;\n",
              "    }\n",
              "</style>\n",
              "<table border=\"1\" class=\"dataframe\">\n",
              "  <thead>\n",
              "    <tr style=\"text-align: right;\">\n",
              "      <th></th>\n",
              "      <th>item_domain_id</th>\n",
              "      <th>item_id</th>\n",
              "      <th>item_title</th>\n",
              "      <th>site_id</th>\n",
              "      <th>product_id</th>\n",
              "      <th>product_family_id</th>\n",
              "    </tr>\n",
              "    <tr>\n",
              "      <th>sku</th>\n",
              "      <th></th>\n",
              "      <th></th>\n",
              "      <th></th>\n",
              "      <th></th>\n",
              "      <th></th>\n",
              "      <th></th>\n",
              "    </tr>\n",
              "  </thead>\n",
              "  <tbody>\n",
              "    <tr>\n",
              "      <th>0</th>\n",
              "      <td>MLB-SNEAKERS</td>\n",
              "      <td>492155</td>\n",
              "      <td>Tênis Masculino Olympikus Cyber Barato Promoçao</td>\n",
              "      <td>MLB</td>\n",
              "      <td>None</td>\n",
              "      <td>MLB15832732</td>\n",
              "    </tr>\n",
              "    <tr>\n",
              "      <th>1</th>\n",
              "      <td>MLB-SURFBOARD_RACKS</td>\n",
              "      <td>300279</td>\n",
              "      <td>Suporte Rack Prancha Parede C/ Regulagem Horiz...</td>\n",
              "      <td>MLB</td>\n",
              "      <td>None</td>\n",
              "      <td>None</td>\n",
              "    </tr>\n",
              "    <tr>\n",
              "      <th>2</th>\n",
              "      <td>MLM-NECKLACES</td>\n",
              "      <td>69847</td>\n",
              "      <td>5 Collares Plateados Dama Gargantilla Choker -...</td>\n",
              "      <td>MLM</td>\n",
              "      <td>None</td>\n",
              "      <td>None</td>\n",
              "    </tr>\n",
              "    <tr>\n",
              "      <th>3</th>\n",
              "      <td>MLM-RINGS</td>\n",
              "      <td>298603</td>\n",
              "      <td>Lindo Anillo De Bella Crepusculo Twilight Prom...</td>\n",
              "      <td>MLM</td>\n",
              "      <td>None</td>\n",
              "      <td>None</td>\n",
              "    </tr>\n",
              "    <tr>\n",
              "      <th>4</th>\n",
              "      <td>MLB-WEBCAMS</td>\n",
              "      <td>345949</td>\n",
              "      <td>Webcam Com Microfone Hd 720p Knup Youtube Pc V...</td>\n",
              "      <td>MLB</td>\n",
              "      <td>None</td>\n",
              "      <td>None</td>\n",
              "    </tr>\n",
              "  </tbody>\n",
              "</table>\n",
              "</div>"
            ],
            "text/plain": [
              "          item_domain_id  item_id  ... product_id product_family_id\n",
              "sku                                ...                             \n",
              "0           MLB-SNEAKERS   492155  ...       None       MLB15832732\n",
              "1    MLB-SURFBOARD_RACKS   300279  ...       None              None\n",
              "2          MLM-NECKLACES    69847  ...       None              None\n",
              "3              MLM-RINGS   298603  ...       None              None\n",
              "4            MLB-WEBCAMS   345949  ...       None              None\n",
              "\n",
              "[5 rows x 6 columns]"
            ]
          },
          "metadata": {
            "tags": []
          },
          "execution_count": 10
        }
      ]
    },
    {
      "cell_type": "markdown",
      "metadata": {
        "id": "v4_s5ND67jbm"
      },
      "source": [
        "### Sample the data"
      ]
    },
    {
      "cell_type": "code",
      "metadata": {
        "id": "RCBVGJaG9IHB"
      },
      "source": [
        "df_sample = df.sample(frac=0.10, random_state=1)"
      ],
      "execution_count": 11,
      "outputs": []
    },
    {
      "cell_type": "markdown",
      "metadata": {
        "id": "VRGB3tpgoUwB"
      },
      "source": [
        "#### Hydrate the initial datasets with the extra data"
      ]
    },
    {
      "cell_type": "code",
      "metadata": {
        "id": "9GO8jRFBoRco"
      },
      "source": [
        "df_sample = df_sample.join(df_metadata, on='sku', how='left')"
      ],
      "execution_count": 12,
      "outputs": []
    },
    {
      "cell_type": "markdown",
      "metadata": {
        "id": "cP13u3kF-Eok"
      },
      "source": [
        "### Save as csv"
      ]
    },
    {
      "cell_type": "code",
      "metadata": {
        "id": "61EmshEo-SAz"
      },
      "source": [
        "df_sample.to_csv(f'{local_dir}df_sample.csv', index=False)"
      ],
      "execution_count": 13,
      "outputs": []
    },
    {
      "cell_type": "markdown",
      "metadata": {
        "id": "5dGw2nat_9lV"
      },
      "source": [
        "### Check that data has been saved correctly"
      ]
    },
    {
      "cell_type": "code",
      "metadata": {
        "colab": {
          "base_uri": "https://localhost:8080/",
          "height": 608
        },
        "id": "4QHEPw6H_1GS",
        "outputId": "98849be3-1dfb-43e8-c9c1-e7b0aa8c60ec"
      },
      "source": [
        "ds = pd.read_csv(f'{local_dir}df_sample.csv')\n",
        "ds.head()"
      ],
      "execution_count": 14,
      "outputs": [
        {
          "output_type": "execute_result",
          "data": {
            "text/html": [
              "<div>\n",
              "<style scoped>\n",
              "    .dataframe tbody tr th:only-of-type {\n",
              "        vertical-align: middle;\n",
              "    }\n",
              "\n",
              "    .dataframe tbody tr th {\n",
              "        vertical-align: top;\n",
              "    }\n",
              "\n",
              "    .dataframe thead th {\n",
              "        text-align: right;\n",
              "    }\n",
              "</style>\n",
              "<table border=\"1\" class=\"dataframe\">\n",
              "  <thead>\n",
              "    <tr style=\"text-align: right;\">\n",
              "      <th></th>\n",
              "      <th>sku</th>\n",
              "      <th>date</th>\n",
              "      <th>sold_quantity</th>\n",
              "      <th>current_price</th>\n",
              "      <th>currency</th>\n",
              "      <th>listing_type</th>\n",
              "      <th>shipping_logistic_type</th>\n",
              "      <th>shipping_payment</th>\n",
              "      <th>minutes_active</th>\n",
              "      <th>item_domain_id</th>\n",
              "      <th>item_id</th>\n",
              "      <th>item_title</th>\n",
              "      <th>site_id</th>\n",
              "      <th>product_id</th>\n",
              "      <th>product_family_id</th>\n",
              "    </tr>\n",
              "  </thead>\n",
              "  <tbody>\n",
              "    <tr>\n",
              "      <th>0</th>\n",
              "      <td>152848</td>\n",
              "      <td>2021-03-24</td>\n",
              "      <td>1</td>\n",
              "      <td>167.00</td>\n",
              "      <td>REA</td>\n",
              "      <td>premium</td>\n",
              "      <td>fulfillment</td>\n",
              "      <td>free_shipping</td>\n",
              "      <td>1041.411833</td>\n",
              "      <td>MLB-DRESSES</td>\n",
              "      <td>3892</td>\n",
              "      <td>Vestido Midi Mulher Virtuosa</td>\n",
              "      <td>MLB</td>\n",
              "      <td>NaN</td>\n",
              "      <td>NaN</td>\n",
              "    </tr>\n",
              "    <tr>\n",
              "      <th>1</th>\n",
              "      <td>431324</td>\n",
              "      <td>2021-02-09</td>\n",
              "      <td>27</td>\n",
              "      <td>28.49</td>\n",
              "      <td>REA</td>\n",
              "      <td>premium</td>\n",
              "      <td>fulfillment</td>\n",
              "      <td>paid_shipping</td>\n",
              "      <td>1440.000000</td>\n",
              "      <td>MLB-CELLPHONE_PARTS</td>\n",
              "      <td>56302</td>\n",
              "      <td>Cola Preta T7000 15ml Para Celular Reparo Touc...</td>\n",
              "      <td>MLB</td>\n",
              "      <td>NaN</td>\n",
              "      <td>NaN</td>\n",
              "    </tr>\n",
              "    <tr>\n",
              "      <th>2</th>\n",
              "      <td>525309</td>\n",
              "      <td>2021-03-04</td>\n",
              "      <td>0</td>\n",
              "      <td>37.91</td>\n",
              "      <td>REA</td>\n",
              "      <td>premium</td>\n",
              "      <td>fulfillment</td>\n",
              "      <td>paid_shipping</td>\n",
              "      <td>1440.000000</td>\n",
              "      <td>MLB-VEHICLE_STICKERS</td>\n",
              "      <td>494687</td>\n",
              "      <td>Kit Adesivos Dodge Dakota Sport 3.9 V6 Em Prat...</td>\n",
              "      <td>MLB</td>\n",
              "      <td>NaN</td>\n",
              "      <td>NaN</td>\n",
              "    </tr>\n",
              "    <tr>\n",
              "      <th>3</th>\n",
              "      <td>492760</td>\n",
              "      <td>2021-02-18</td>\n",
              "      <td>0</td>\n",
              "      <td>169.15</td>\n",
              "      <td>MEX</td>\n",
              "      <td>premium</td>\n",
              "      <td>drop_off</td>\n",
              "      <td>paid_shipping</td>\n",
              "      <td>1440.000000</td>\n",
              "      <td>MLM-CELLPHONE_COVERS</td>\n",
              "      <td>190467</td>\n",
              "      <td>Fundas Nintendo Switch Para iPhone 11 iPhone 1...</td>\n",
              "      <td>MLM</td>\n",
              "      <td>NaN</td>\n",
              "      <td>NaN</td>\n",
              "    </tr>\n",
              "    <tr>\n",
              "      <th>4</th>\n",
              "      <td>223511</td>\n",
              "      <td>2021-02-17</td>\n",
              "      <td>0</td>\n",
              "      <td>24.90</td>\n",
              "      <td>REA</td>\n",
              "      <td>premium</td>\n",
              "      <td>fulfillment</td>\n",
              "      <td>paid_shipping</td>\n",
              "      <td>0.000000</td>\n",
              "      <td>MLB-KITCHEN_SUPPLIES</td>\n",
              "      <td>467072</td>\n",
              "      <td>Cesto Cozimento A Vapor Inox Legumes Cozinha P...</td>\n",
              "      <td>MLB</td>\n",
              "      <td>NaN</td>\n",
              "      <td>NaN</td>\n",
              "    </tr>\n",
              "  </tbody>\n",
              "</table>\n",
              "</div>"
            ],
            "text/plain": [
              "      sku        date  sold_quantity  ...  site_id product_id product_family_id\n",
              "0  152848  2021-03-24              1  ...      MLB        NaN               NaN\n",
              "1  431324  2021-02-09             27  ...      MLB        NaN               NaN\n",
              "2  525309  2021-03-04              0  ...      MLB        NaN               NaN\n",
              "3  492760  2021-02-18              0  ...      MLM        NaN               NaN\n",
              "4  223511  2021-02-17              0  ...      MLB        NaN               NaN\n",
              "\n",
              "[5 rows x 15 columns]"
            ]
          },
          "metadata": {
            "tags": []
          },
          "execution_count": 14
        }
      ]
    }
  ]
}