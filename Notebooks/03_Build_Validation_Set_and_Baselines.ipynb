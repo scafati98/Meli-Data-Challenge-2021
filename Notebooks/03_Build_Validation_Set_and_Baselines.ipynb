{
  "nbformat": 4,
  "nbformat_minor": 0,
  "metadata": {
    "colab": {
      "name": "03_Build_Validation_Set_and_Baselines.ipynb",
      "provenance": [],
      "collapsed_sections": []
    },
    "kernelspec": {
      "name": "python3",
      "display_name": "Python 3"
    },
    "language_info": {
      "name": "python"
    }
  },
  "cells": [
    {
      "cell_type": "markdown",
      "metadata": {
        "id": "F4leXbdRF8pa"
      },
      "source": [
        "# Building the Validation Set and Baseline Models\n",
        "\n",
        "- Uniform distribution\n",
        "- Normal distribution"
      ]
    },
    {
      "cell_type": "code",
      "metadata": {
        "id": "Yuv-WS8uFi0Q"
      },
      "source": [
        "import pandas as pd\n",
        "import numpy as np\n",
        "from tqdm import tqdm"
      ],
      "execution_count": 13,
      "outputs": []
    },
    {
      "cell_type": "code",
      "metadata": {
        "colab": {
          "base_uri": "https://localhost:8080/"
        },
        "id": "ZEjG7KnYFkOX",
        "outputId": "e983b08d-df36-4a6e-c643-15bc60e85e04"
      },
      "source": [
        "from google.colab import drive\n",
        "drive.mount('/content/gdrive')"
      ],
      "execution_count": 3,
      "outputs": [
        {
          "output_type": "stream",
          "text": [
            "Mounted at /content/gdrive\n"
          ],
          "name": "stdout"
        }
      ]
    },
    {
      "cell_type": "code",
      "metadata": {
        "id": "4jCxu3U8FuOZ"
      },
      "source": [
        "# Set the directory where the data is loaded.\n",
        "local_dir = '/content/gdrive/MyDrive/Meli Data Challenge/'"
      ],
      "execution_count": 4,
      "outputs": []
    },
    {
      "cell_type": "code",
      "metadata": {
        "id": "Z0eAHcbmFy5j"
      },
      "source": [
        "df = pd.read_csv(f'{local_dir}df_sample.csv')"
      ],
      "execution_count": 6,
      "outputs": []
    },
    {
      "cell_type": "markdown",
      "metadata": {
        "id": "ngpeBNzEGPK-"
      },
      "source": [
        "1. Make a temporary split"
      ]
    },
    {
      "cell_type": "code",
      "metadata": {
        "id": "edUWskjSF0Gn"
      },
      "source": [
        "df.date = pd.to_datetime(df.date)"
      ],
      "execution_count": 9,
      "outputs": []
    },
    {
      "cell_type": "code",
      "metadata": {
        "id": "caWJEIgxGmWO"
      },
      "source": [
        "# separate the last 30 days for validation.\n",
        "val_data = df.loc[(df.date > '2021-03-01')]\n",
        "\n",
        "# use the rest as training.\n",
        "train = df.loc[(df.date <= '2021-03-01')]"
      ],
      "execution_count": 11,
      "outputs": []
    },
    {
      "cell_type": "markdown",
      "metadata": {
        "id": "MqUBDEeiG4ao"
      },
      "source": [
        "2. Create validation dataset by calculating target stock and inventory days"
      ]
    },
    {
      "cell_type": "code",
      "metadata": {
        "colab": {
          "base_uri": "https://localhost:8080/"
        },
        "id": "f_p3qQCwG2xM",
        "outputId": "5f92816b-a8e4-4b25-bf6a-f94ff39ac8a7"
      },
      "source": [
        "def create_validation_set(dataset):\n",
        "  np.random.seed(10)\n",
        "  print('Sorting records...')\n",
        "  temp_pd = dataset.loc[:, ['sku', 'date', 'sold_quantity']].sort_values(['sku', 'date'])\n",
        "  print('Grouping quantity...')\n",
        "  temp_dict = temp_pd.groupby('sku').agg({'sold_quantity': lambda x: [i for i in x]})['sold_quantity'].to_dict()\n",
        "  result = []\n",
        "  for idx, list_quantity in tqdm(temp_dict.items(), desc='Making targets...'):\n",
        "    cumsum = np.array(list_quantity).cumsum()\n",
        "\n",
        "    stock_target = 0\n",
        "    if cumsum[-1] > 0:\n",
        "\n",
        "      # choose a random target different from 0\n",
        "      while stock_target == 0:\n",
        "        stock_target = np.random.choice(cumsum)\n",
        "\n",
        "        # get the first day with this amount of sales\n",
        "        day_to_stockout = np.argwhere(cumsum==stock_target).min() + 1\n",
        "\n",
        "        # add to a list\n",
        "        result.append({'sku': idx,\n",
        "                       'target_stock': stock_target,\n",
        "                       'inventory_days': day_to_stockout \n",
        "                       })\n",
        "  return result\n",
        "\n",
        "# generate target for the 30 days of validation\n",
        "val = create_validation_set(val_data)"
      ],
      "execution_count": 49,
      "outputs": [
        {
          "output_type": "stream",
          "text": [
            "Sorting records...\n",
            "Grouping quantity...\n"
          ],
          "name": "stdout"
        },
        {
          "output_type": "stream",
          "text": [
            "Making targets...: 100%|██████████| 628883/628883 [00:17<00:00, 35215.25it/s]\n"
          ],
          "name": "stderr"
        }
      ]
    },
    {
      "cell_type": "code",
      "metadata": {
        "colab": {
          "base_uri": "https://localhost:8080/"
        },
        "id": "wWKasFEKG_gG",
        "outputId": "e5ff1a2b-7c44-48bd-cf9f-1fdd1bd911ee"
      },
      "source": [
        "val[:10]"
      ],
      "execution_count": 50,
      "outputs": [
        {
          "output_type": "execute_result",
          "data": {
            "text/plain": [
              "[{'inventory_days': 2, 'sku': 1, 'target_stock': 1},\n",
              " {'inventory_days': 2, 'sku': 4, 'target_stock': 1},\n",
              " {'inventory_days': 1, 'sku': 5, 'target_stock': 2},\n",
              " {'inventory_days': 1, 'sku': 6, 'target_stock': 0},\n",
              " {'inventory_days': 2, 'sku': 6, 'target_stock': 1},\n",
              " {'inventory_days': 1, 'sku': 7, 'target_stock': 11},\n",
              " {'inventory_days': 1, 'sku': 9, 'target_stock': 1},\n",
              " {'inventory_days': 1, 'sku': 13, 'target_stock': 0},\n",
              " {'inventory_days': 1, 'sku': 13, 'target_stock': 0},\n",
              " {'inventory_days': 1, 'sku': 13, 'target_stock': 0}]"
            ]
          },
          "metadata": {
            "tags": []
          },
          "execution_count": 50
        }
      ]
    },
    {
      "cell_type": "markdown",
      "metadata": {
        "id": "TDEVBBToU7sP"
      },
      "source": [
        "### Uniform Distribution Model"
      ]
    },
    {
      "cell_type": "code",
      "metadata": {
        "id": "jb8zUS_mVKYb"
      },
      "source": [
        "days_to_predict = 30"
      ],
      "execution_count": 51,
      "outputs": []
    },
    {
      "cell_type": "code",
      "metadata": {
        "id": "bQW1Nv4WVMa6"
      },
      "source": [
        "y_pred_uniform = [(np.ones(days_to_predict)/days_to_predict).round(4).tolist()] * len(val)"
      ],
      "execution_count": 52,
      "outputs": []
    },
    {
      "cell_type": "markdown",
      "metadata": {
        "id": "DCDZLF5BVc4F"
      },
      "source": [
        "This is how a uniform distribution baseline output would look like."
      ]
    },
    {
      "cell_type": "code",
      "metadata": {
        "colab": {
          "base_uri": "https://localhost:8080/",
          "height": 226
        },
        "id": "Ty3gjT39VV4T",
        "outputId": "868ad723-baa5-40e1-e818-952f27ced061"
      },
      "source": [
        "pd.DataFrame(y_pred_uniform, columns=range(1, days_to_predict+1)).head()"
      ],
      "execution_count": 53,
      "outputs": [
        {
          "output_type": "execute_result",
          "data": {
            "text/html": [
              "<div>\n",
              "<style scoped>\n",
              "    .dataframe tbody tr th:only-of-type {\n",
              "        vertical-align: middle;\n",
              "    }\n",
              "\n",
              "    .dataframe tbody tr th {\n",
              "        vertical-align: top;\n",
              "    }\n",
              "\n",
              "    .dataframe thead th {\n",
              "        text-align: right;\n",
              "    }\n",
              "</style>\n",
              "<table border=\"1\" class=\"dataframe\">\n",
              "  <thead>\n",
              "    <tr style=\"text-align: right;\">\n",
              "      <th></th>\n",
              "      <th>1</th>\n",
              "      <th>2</th>\n",
              "      <th>3</th>\n",
              "      <th>4</th>\n",
              "      <th>5</th>\n",
              "      <th>6</th>\n",
              "      <th>7</th>\n",
              "      <th>8</th>\n",
              "      <th>9</th>\n",
              "      <th>10</th>\n",
              "      <th>11</th>\n",
              "      <th>12</th>\n",
              "      <th>13</th>\n",
              "      <th>14</th>\n",
              "      <th>15</th>\n",
              "      <th>16</th>\n",
              "      <th>17</th>\n",
              "      <th>18</th>\n",
              "      <th>19</th>\n",
              "      <th>20</th>\n",
              "      <th>21</th>\n",
              "      <th>22</th>\n",
              "      <th>23</th>\n",
              "      <th>24</th>\n",
              "      <th>25</th>\n",
              "      <th>26</th>\n",
              "      <th>27</th>\n",
              "      <th>28</th>\n",
              "      <th>29</th>\n",
              "      <th>30</th>\n",
              "    </tr>\n",
              "  </thead>\n",
              "  <tbody>\n",
              "    <tr>\n",
              "      <th>0</th>\n",
              "      <td>0.0333</td>\n",
              "      <td>0.0333</td>\n",
              "      <td>0.0333</td>\n",
              "      <td>0.0333</td>\n",
              "      <td>0.0333</td>\n",
              "      <td>0.0333</td>\n",
              "      <td>0.0333</td>\n",
              "      <td>0.0333</td>\n",
              "      <td>0.0333</td>\n",
              "      <td>0.0333</td>\n",
              "      <td>0.0333</td>\n",
              "      <td>0.0333</td>\n",
              "      <td>0.0333</td>\n",
              "      <td>0.0333</td>\n",
              "      <td>0.0333</td>\n",
              "      <td>0.0333</td>\n",
              "      <td>0.0333</td>\n",
              "      <td>0.0333</td>\n",
              "      <td>0.0333</td>\n",
              "      <td>0.0333</td>\n",
              "      <td>0.0333</td>\n",
              "      <td>0.0333</td>\n",
              "      <td>0.0333</td>\n",
              "      <td>0.0333</td>\n",
              "      <td>0.0333</td>\n",
              "      <td>0.0333</td>\n",
              "      <td>0.0333</td>\n",
              "      <td>0.0333</td>\n",
              "      <td>0.0333</td>\n",
              "      <td>0.0333</td>\n",
              "    </tr>\n",
              "    <tr>\n",
              "      <th>1</th>\n",
              "      <td>0.0333</td>\n",
              "      <td>0.0333</td>\n",
              "      <td>0.0333</td>\n",
              "      <td>0.0333</td>\n",
              "      <td>0.0333</td>\n",
              "      <td>0.0333</td>\n",
              "      <td>0.0333</td>\n",
              "      <td>0.0333</td>\n",
              "      <td>0.0333</td>\n",
              "      <td>0.0333</td>\n",
              "      <td>0.0333</td>\n",
              "      <td>0.0333</td>\n",
              "      <td>0.0333</td>\n",
              "      <td>0.0333</td>\n",
              "      <td>0.0333</td>\n",
              "      <td>0.0333</td>\n",
              "      <td>0.0333</td>\n",
              "      <td>0.0333</td>\n",
              "      <td>0.0333</td>\n",
              "      <td>0.0333</td>\n",
              "      <td>0.0333</td>\n",
              "      <td>0.0333</td>\n",
              "      <td>0.0333</td>\n",
              "      <td>0.0333</td>\n",
              "      <td>0.0333</td>\n",
              "      <td>0.0333</td>\n",
              "      <td>0.0333</td>\n",
              "      <td>0.0333</td>\n",
              "      <td>0.0333</td>\n",
              "      <td>0.0333</td>\n",
              "    </tr>\n",
              "    <tr>\n",
              "      <th>2</th>\n",
              "      <td>0.0333</td>\n",
              "      <td>0.0333</td>\n",
              "      <td>0.0333</td>\n",
              "      <td>0.0333</td>\n",
              "      <td>0.0333</td>\n",
              "      <td>0.0333</td>\n",
              "      <td>0.0333</td>\n",
              "      <td>0.0333</td>\n",
              "      <td>0.0333</td>\n",
              "      <td>0.0333</td>\n",
              "      <td>0.0333</td>\n",
              "      <td>0.0333</td>\n",
              "      <td>0.0333</td>\n",
              "      <td>0.0333</td>\n",
              "      <td>0.0333</td>\n",
              "      <td>0.0333</td>\n",
              "      <td>0.0333</td>\n",
              "      <td>0.0333</td>\n",
              "      <td>0.0333</td>\n",
              "      <td>0.0333</td>\n",
              "      <td>0.0333</td>\n",
              "      <td>0.0333</td>\n",
              "      <td>0.0333</td>\n",
              "      <td>0.0333</td>\n",
              "      <td>0.0333</td>\n",
              "      <td>0.0333</td>\n",
              "      <td>0.0333</td>\n",
              "      <td>0.0333</td>\n",
              "      <td>0.0333</td>\n",
              "      <td>0.0333</td>\n",
              "    </tr>\n",
              "    <tr>\n",
              "      <th>3</th>\n",
              "      <td>0.0333</td>\n",
              "      <td>0.0333</td>\n",
              "      <td>0.0333</td>\n",
              "      <td>0.0333</td>\n",
              "      <td>0.0333</td>\n",
              "      <td>0.0333</td>\n",
              "      <td>0.0333</td>\n",
              "      <td>0.0333</td>\n",
              "      <td>0.0333</td>\n",
              "      <td>0.0333</td>\n",
              "      <td>0.0333</td>\n",
              "      <td>0.0333</td>\n",
              "      <td>0.0333</td>\n",
              "      <td>0.0333</td>\n",
              "      <td>0.0333</td>\n",
              "      <td>0.0333</td>\n",
              "      <td>0.0333</td>\n",
              "      <td>0.0333</td>\n",
              "      <td>0.0333</td>\n",
              "      <td>0.0333</td>\n",
              "      <td>0.0333</td>\n",
              "      <td>0.0333</td>\n",
              "      <td>0.0333</td>\n",
              "      <td>0.0333</td>\n",
              "      <td>0.0333</td>\n",
              "      <td>0.0333</td>\n",
              "      <td>0.0333</td>\n",
              "      <td>0.0333</td>\n",
              "      <td>0.0333</td>\n",
              "      <td>0.0333</td>\n",
              "    </tr>\n",
              "    <tr>\n",
              "      <th>4</th>\n",
              "      <td>0.0333</td>\n",
              "      <td>0.0333</td>\n",
              "      <td>0.0333</td>\n",
              "      <td>0.0333</td>\n",
              "      <td>0.0333</td>\n",
              "      <td>0.0333</td>\n",
              "      <td>0.0333</td>\n",
              "      <td>0.0333</td>\n",
              "      <td>0.0333</td>\n",
              "      <td>0.0333</td>\n",
              "      <td>0.0333</td>\n",
              "      <td>0.0333</td>\n",
              "      <td>0.0333</td>\n",
              "      <td>0.0333</td>\n",
              "      <td>0.0333</td>\n",
              "      <td>0.0333</td>\n",
              "      <td>0.0333</td>\n",
              "      <td>0.0333</td>\n",
              "      <td>0.0333</td>\n",
              "      <td>0.0333</td>\n",
              "      <td>0.0333</td>\n",
              "      <td>0.0333</td>\n",
              "      <td>0.0333</td>\n",
              "      <td>0.0333</td>\n",
              "      <td>0.0333</td>\n",
              "      <td>0.0333</td>\n",
              "      <td>0.0333</td>\n",
              "      <td>0.0333</td>\n",
              "      <td>0.0333</td>\n",
              "      <td>0.0333</td>\n",
              "    </tr>\n",
              "  </tbody>\n",
              "</table>\n",
              "</div>"
            ],
            "text/plain": [
              "       1       2       3       4   ...      27      28      29      30\n",
              "0  0.0333  0.0333  0.0333  0.0333  ...  0.0333  0.0333  0.0333  0.0333\n",
              "1  0.0333  0.0333  0.0333  0.0333  ...  0.0333  0.0333  0.0333  0.0333\n",
              "2  0.0333  0.0333  0.0333  0.0333  ...  0.0333  0.0333  0.0333  0.0333\n",
              "3  0.0333  0.0333  0.0333  0.0333  ...  0.0333  0.0333  0.0333  0.0333\n",
              "4  0.0333  0.0333  0.0333  0.0333  ...  0.0333  0.0333  0.0333  0.0333\n",
              "\n",
              "[5 rows x 30 columns]"
            ]
          },
          "metadata": {
            "tags": []
          },
          "execution_count": 53
        }
      ]
    },
    {
      "cell_type": "markdown",
      "metadata": {
        "id": "NyposiHCVymc"
      },
      "source": [
        "## Scoring Function"
      ]
    },
    {
      "cell_type": "code",
      "metadata": {
        "id": "R_9QcPdgVx-D"
      },
      "source": [
        "def ranked_probability_score(y_true, y_pred):\n",
        "  return ((y_true.cumsum(axis=1) - y_pred.cumsum(axis=1))**2).sum(axis=1).mean()\n",
        "\n",
        "def scoring_function(y_true, y_pred):\n",
        "  \"\"\"\n",
        "  Input\n",
        "    y_true: List of ints of shape Nx1. Contain the target_stock\n",
        "    y_pred: List of float of shape Nx30. Contain the prob each day\n",
        "  \"\"\"\n",
        "  y_true = np.array(y_true)\n",
        "  y_pred = np.array(y_pred)\n",
        "  y_true_one_hot = np.zeros_like(y_pred, dtype=np.float)\n",
        "  y_true_one_hot[range(len(y_true)), y_true-1] = 1\n",
        "  return ranked_probability_score(y_true_one_hot, y_pred)"
      ],
      "execution_count": 66,
      "outputs": []
    },
    {
      "cell_type": "code",
      "metadata": {
        "id": "TCxmUUdnWhjM"
      },
      "source": [
        "y_true_val = [x['inventory_days'] for x in val]"
      ],
      "execution_count": 67,
      "outputs": []
    },
    {
      "cell_type": "code",
      "metadata": {
        "colab": {
          "base_uri": "https://localhost:8080/"
        },
        "id": "tkoJyrZEWoAA",
        "outputId": "83f814e3-9214-4c10-c4fb-fcff7973bbea"
      },
      "source": [
        "y_true_val[:10]"
      ],
      "execution_count": 68,
      "outputs": [
        {
          "output_type": "execute_result",
          "data": {
            "text/plain": [
              "[2, 2, 1, 1, 2, 1, 1, 1, 1, 1]"
            ]
          },
          "metadata": {
            "tags": []
          },
          "execution_count": 68
        }
      ]
    },
    {
      "cell_type": "code",
      "metadata": {
        "colab": {
          "base_uri": "https://localhost:8080/",
          "height": 268
        },
        "id": "-Jh7G-hvXYKb",
        "outputId": "2e74f479-d599-4c64-81fa-60c3db82ae3e"
      },
      "source": [
        "import matplotlib.pyplot as plt\n",
        "plt.hist(y_true_val)\n",
        "\n",
        "plt.show()"
      ],
      "execution_count": 73,
      "outputs": [
        {
          "output_type": "display_data",
          "data": {
            "image/png": "[encoded data removed]",
            "text/plain": [
              "<Figure size 432x288 with 1 Axes>"
            ]
          },
          "metadata": {
            "tags": [],
            "needs_background": "light"
          }
        }
      ]
    },
    {
      "cell_type": "code",
      "metadata": {
        "colab": {
          "base_uri": "https://localhost:8080/"
        },
        "id": "oYN52xk5Xjhg",
        "outputId": "e44066fb-2396-4ce4-a826-6891c63c1475"
      },
      "source": [
        "max(y_true_val)"
      ],
      "execution_count": 78,
      "outputs": [
        {
          "output_type": "execute_result",
          "data": {
            "text/plain": [
              "11"
            ]
          },
          "metadata": {
            "tags": []
          },
          "execution_count": 78
        }
      ]
    },
    {
      "cell_type": "code",
      "metadata": {
        "colab": {
          "base_uri": "https://localhost:8080/"
        },
        "id": "U1MtMyQXWo92",
        "outputId": "6b9fbb3a-91c4-4db8-bb9a-969aa7aeb10e"
      },
      "source": [
        "uniform_score = scoring_function(y_true_val, y_pred_uniform)\n",
        "print('Uniform model got a validation RPS of: ', uniform_score)"
      ],
      "execution_count": 69,
      "outputs": [
        {
          "output_type": "stream",
          "text": [
            "Uniform model got a validation RPS of:  8.809584030352854\n"
          ],
          "name": "stdout"
        }
      ]
    },
    {
      "cell_type": "code",
      "metadata": {
        "id": "AqOH_o0-WxXy"
      },
      "source": [
        ""
      ],
      "execution_count": null,
      "outputs": []
    }
  ]
}